{
 "cells": [
  {
   "cell_type": "markdown",
   "metadata": {},
   "source": [
    "# Lecture 3: Control Flow\n",
    "\n",
    "Here we'll go through some basic control flow so you can start to write more complicated Python code. \n",
    "\n",
    "Each section will begin with some pseudocode - code that is not synatically correct, would not run if passed to the Python interpreter but represents the basic ideas. Pseudocode is a good way to approach any programming task. \n",
    "\n",
    "## if statements\n",
    "\n",
    "The simplest if statement is just checking if some condition is met: \n",
    "\n",
    "```\n",
    "if condition:\n",
    "   do a thing\n",
    "```\n",
    "\n",
    "But we might want to have the code do something else if the condition is not met: \n",
    "\n",
    "```\n",
    "if condition:\n",
    "   do a thing\n",
    "else:\n",
    "   do a different thing\n",
    "```\n",
    "\n",
    "Alternatively we could have the code check multiple conditions:\n",
    "\n",
    "```\n",
    "if condition:\n",
    "   do a thing\n",
    "elif another condition:\n",
    "   do a thing\n",
    "else:\n",
    "   do a thing\n",
    "```\n",
    "\n",
    "Note that we intended the body of these statements. If you've used other programming languages you might be used to seeing parentheses, but in Python whitespace at the beginning of the line is used to denote which lines are within loops, functions, or other meaningful groupings of code.\n",
    "\n",
    "Let's have the code print 'my_var is an even number' or 'my_var is an odd number' using if conditions."
   ]
  },
  {
   "cell_type": "code",
   "execution_count": 1,
   "metadata": {
    "collapsed": true
   },
   "outputs": [],
   "source": [
    "my_var = 6"
   ]
  },
  {
   "cell_type": "code",
   "execution_count": 2,
   "metadata": {
    "collapsed": false
   },
   "outputs": [
    {
     "name": "stdout",
     "output_type": "stream",
     "text": [
      "my_var is an even number\n"
     ]
    }
   ],
   "source": [
    "if my_var % 2 == 0:\n",
    "    print('my_var is an even number')\n",
    "elif my_var % 2 == 1:\n",
    "    print('my_var is an odd number')\n",
    "else:\n",
    "    print('my_var is a floating point number')\n",
    "    "
   ]
  },
  {
   "cell_type": "markdown",
   "metadata": {},
   "source": [
    "Try some different numerical values for my_var. "
   ]
  },
  {
   "cell_type": "markdown",
   "metadata": {},
   "source": [
    "## for loops"
   ]
  },
  {
   "cell_type": "markdown",
   "metadata": {},
   "source": [
    "A for loop executes a piece of code for every value in a sequence:\n",
    "\n",
    "```\n",
    "for each in sequence:\n",
    "    do a thing\n",
    "```"
   ]
  },
  {
   "cell_type": "code",
   "execution_count": 3,
   "metadata": {
    "collapsed": false,
    "scrolled": true
   },
   "outputs": [
    {
     "name": "stdout",
     "output_type": "stream",
     "text": [
      "2\n",
      "3\n",
      "5\n",
      "7\n",
      "11\n"
     ]
    }
   ],
   "source": [
    "favorite_numbers = [2, 3, 5, 7, 11]\n",
    "for number in favorite_numbers:\n",
    "    print(number)"
   ]
  },
  {
   "cell_type": "code",
   "execution_count": 4,
   "metadata": {
    "collapsed": false
   },
   "outputs": [
    {
     "name": "stdout",
     "output_type": "stream",
     "text": [
      "28\n"
     ]
    }
   ],
   "source": [
    "favorite_numbers = [2, 3, 5, 7, 11]\n",
    "sum_of_numbers = 0\n",
    "for number in favorite_numbers:\n",
    "    sum_of_numbers += number\n",
    "print(sum_of_numbers)"
   ]
  },
  {
   "cell_type": "code",
   "execution_count": 5,
   "metadata": {
    "collapsed": false
   },
   "outputs": [
    {
     "data": {
      "text/plain": [
       "28"
      ]
     },
     "execution_count": 5,
     "metadata": {},
     "output_type": "execute_result"
    }
   ],
   "source": [
    "sum(favorite_numbers)"
   ]
  },
  {
   "cell_type": "markdown",
   "metadata": {},
   "source": [
    "## range()"
   ]
  },
  {
   "cell_type": "markdown",
   "metadata": {},
   "source": [
    "Range is a handy function that produces a list of numbers. This is useful for use in loops in your code.\n",
    "\n",
    "By default `range()` begins at 0:"
   ]
  },
  {
   "cell_type": "code",
   "execution_count": 6,
   "metadata": {
    "collapsed": false
   },
   "outputs": [
    {
     "name": "stdout",
     "output_type": "stream",
     "text": [
      "0\n",
      "1\n",
      "2\n",
      "3\n",
      "4\n",
      "5\n",
      "6\n",
      "7\n",
      "8\n",
      "9\n"
     ]
    }
   ],
   "source": [
    "for x in range(10):\n",
    "    print(x)"
   ]
  },
  {
   "cell_type": "markdown",
   "metadata": {},
   "source": [
    "But you can have `range()` start at a specified value: "
   ]
  },
  {
   "cell_type": "code",
   "execution_count": 7,
   "metadata": {
    "collapsed": false
   },
   "outputs": [
    {
     "name": "stdout",
     "output_type": "stream",
     "text": [
      "7\n",
      "8\n",
      "9\n"
     ]
    }
   ],
   "source": [
    "for x in range(7, 10):\n",
    "    print(x)"
   ]
  },
  {
   "cell_type": "markdown",
   "metadata": {},
   "source": [
    "By default `range()` will increment by 1, but you can specify that as well: "
   ]
  },
  {
   "cell_type": "code",
   "execution_count": 8,
   "metadata": {
    "collapsed": false
   },
   "outputs": [
    {
     "name": "stdout",
     "output_type": "stream",
     "text": [
      "2\n",
      "4\n",
      "6\n",
      "8\n"
     ]
    }
   ],
   "source": [
    "for x in range(2, 10, 2):\n",
    "    print(x)"
   ]
  },
  {
   "cell_type": "markdown",
   "metadata": {},
   "source": [
    "Note that the upper limit will never be printed."
   ]
  },
  {
   "cell_type": "markdown",
   "metadata": {},
   "source": [
    "## while loops"
   ]
  },
  {
   "cell_type": "markdown",
   "metadata": {},
   "source": [
    "While loops repeat some code until a condition has been met:\n",
    "    \n",
    "```\n",
    "while condition is not met:\n",
    "    do a thing\n",
    "```"
   ]
  },
  {
   "cell_type": "code",
   "execution_count": 9,
   "metadata": {
    "collapsed": false
   },
   "outputs": [
    {
     "name": "stdout",
     "output_type": "stream",
     "text": [
      "0\n",
      "1\n",
      "2\n",
      "3\n",
      "4\n"
     ]
    }
   ],
   "source": [
    "x = 0\n",
    "while x < 5:\n",
    "    print(x)\n",
    "    x += 1"
   ]
  },
  {
   "cell_type": "markdown",
   "metadata": {},
   "source": [
    "## break, continue, pass"
   ]
  },
  {
   "cell_type": "markdown",
   "metadata": {},
   "source": [
    "If you want to prematurely exit a loop, use `break`:"
   ]
  },
  {
   "cell_type": "code",
   "execution_count": 10,
   "metadata": {
    "collapsed": false
   },
   "outputs": [
    {
     "name": "stdout",
     "output_type": "stream",
     "text": [
      "2\n",
      "3\n",
      "5\n"
     ]
    }
   ],
   "source": [
    "favorite_numbers = [2, 3, 5, 7, 11]\n",
    "for number in favorite_numbers:\n",
    "    print(number)\n",
    "    if number == 5:\n",
    "        break"
   ]
  },
  {
   "cell_type": "markdown",
   "metadata": {},
   "source": [
    "This can be used inside loops, but not if statements. \n",
    "\n",
    "You can use `continue` to start the next iteration of the loop."
   ]
  },
  {
   "cell_type": "code",
   "execution_count": 11,
   "metadata": {
    "collapsed": false
   },
   "outputs": [
    {
     "name": "stdout",
     "output_type": "stream",
     "text": [
      "2\n",
      "3\n",
      "7\n",
      "11\n"
     ]
    }
   ],
   "source": [
    "favorite_numbers = [2, 3, 5, 7, 11]\n",
    "for number in favorite_numbers:\n",
    "    if number == 5:\n",
    "        continue\n",
    "    print(number)"
   ]
  },
  {
   "cell_type": "markdown",
   "metadata": {},
   "source": [
    "If you want to simply pass over a line, but some piece of code is required for the syntax, then use the `pass` statement. "
   ]
  },
  {
   "cell_type": "code",
   "execution_count": 12,
   "metadata": {
    "collapsed": false
   },
   "outputs": [
    {
     "name": "stdout",
     "output_type": "stream",
     "text": [
      "2\n",
      "3\n",
      "5\n",
      "7\n",
      "11\n"
     ]
    }
   ],
   "source": [
    "favorite_numbers = [2, 3, 5, 7, 11]\n",
    "for number in favorite_numbers:\n",
    "    if number == 5:\n",
    "        pass\n",
    "    print(number)"
   ]
  },
  {
   "cell_type": "markdown",
   "metadata": {},
   "source": [
    "From the output of these last two examples, we can see that `pass` and `continue` are not the same thing. "
   ]
  }
 ],
 "metadata": {
  "kernelspec": {
   "display_name": "Python 3",
   "language": "python",
   "name": "python3"
  },
  "language_info": {
   "codemirror_mode": {
    "name": "ipython",
    "version": 3
   },
   "file_extension": ".py",
   "mimetype": "text/x-python",
   "name": "python",
   "nbconvert_exporter": "python",
   "pygments_lexer": "ipython3",
   "version": "3.4.3"
  }
 },
 "nbformat": 4,
 "nbformat_minor": 0
}
