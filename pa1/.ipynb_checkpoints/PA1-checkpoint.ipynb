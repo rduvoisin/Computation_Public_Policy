{
 "cells": [
  {
   "cell_type": "code",
   "execution_count": 17,
   "metadata": {
    "collapsed": false
   },
   "outputs": [
    {
     "name": "stdout",
     "output_type": "stream",
     "text": [
      "((21878, 22), Index([u'ID', u'Case Number', u'Date', u'Block', u'IUCR', u'Primary Type',\n",
      "       u'Description', u'Location Description', u'Arrest', u'Domestic',\n",
      "       u'Beat', u'District', u'Ward', u'Community Area', u'FBI Code',\n",
      "       u'X Coordinate', u'Y Coordinate', u'Year', u'Updated On', u'Latitude',\n",
      "       u'Longitude', u'Location'],\n",
      "      dtype='object'))\n"
     ]
    }
   ],
   "source": [
    "# Rebeccah Duvoisin\n",
    "# Question 1: Write a piece of code that reads in the data to a format that you can use.\n",
    "import pandas as pd\n",
    "import numpy as np\n",
    "pd.options.display.max_rows = 8\n",
    "%matplotlib inline\n",
    "\n",
    "crime = pd.read_csv('../pa1/dec_2015_crimes.csv', parse_dates=['Date'])\n",
    "print(crime.shape, crime.columns)"
   ]
  },
  {
   "cell_type": "code",
   "execution_count": 18,
   "metadata": {
    "collapsed": false
   },
   "outputs": [
    {
     "name": "stdout",
     "output_type": "stream",
     "text": [
      "16.8% of Crimes resulted in arrest.\n"
     ]
    }
   ],
   "source": [
    "# Question 2: How often did a crime result in an arrest?\n",
    "print(\"{:.1f}% of Crimes resulted in arrest.\".format((len(crime[crime['Arrest'] == True]) / len(crime)) * 100))"
   ]
  },
  {
   "cell_type": "code",
   "execution_count": 19,
   "metadata": {
    "collapsed": false
   },
   "outputs": [
    {
     "name": "stdout",
     "output_type": "stream",
     "text": [
      "ARRESTS:\n",
      "\n",
      "# 1. NARCOTICS, 1187\n",
      "# 2. BATTERY, 805\n",
      "# 3. THEFT, 400\n",
      "# 4. ASSAULT, 235\n",
      "# 5. CRIMINAL TRESPASS, 228\n",
      "# 6. OTHER OFFENSE, 216\n",
      "# 7. CRIMINAL DAMAGE, 111\n",
      "# 8. WEAPONS VIOLATION, 110\n",
      "# 9. PUBLIC PEACE VIOLATION, 95\n",
      "# 10. PROSTITUTION, 66\n",
      "\n",
      " WE REALLY NEED A REGRESSION TO ANSWER #3 FULLY DUE TO DIFFERING\n",
      " SAMPLE SIZES, BUT HERE'S A SIMPLE TABLE OF CRIMES BY THEIR PERCENT OF ARRESTS. \n",
      "\n",
      " ALSO IT'S PROBABLY BETTER THAT WE LIMIT THIS TABLE TO CRIMES \n",
      " THAT EXPLAIN AT LEAST 5% (~183.8) OF ALL ARRESTS.\n"
     ]
    },
    {
     "data": {
      "text/plain": [
       "['NARCOTICS, 100.0% Arrested, 5.4% of CRIME (1187) and 32.3% of ARRESTS (1187) ',\n",
       " 'CRIMINAL TRESPASS, 48.5% Arrested, 2.1% of CRIME (470) and 6.2% of ARRESTS (228) ',\n",
       " 'BATTERY, 19.6% Arrested, 18.7% of CRIME (4099) and 21.9% of ARRESTS (805) ',\n",
       " 'ASSAULT, 17.5% Arrested, 6.1% of CRIME (1341) and 6.4% of ARRESTS (235) ',\n",
       " 'OTHER OFFENSE, 16.4% Arrested, 6.0% of CRIME (1318) and 5.9% of ARRESTS (215) ',\n",
       " 'THEFT, 7.7% Arrested, 23.8% of CRIME (5202) and 10.9% of ARRESTS (400) ']"
      ]
     },
     "execution_count": 19,
     "metadata": {},
     "output_type": "execute_result"
    }
   ],
   "source": [
    "types_of_arrest = np.unique(crime[crime['Arrest'] == True]['Primary Type'])\n",
    "arrests = crime[crime['Arrest'] == True].copy()   \n",
    "arrests_by_type = [(len(arrests[arrests['Primary Type'] == i]), i) for i in types_of_arrest]\n",
    "arrests_by_type.sort(reverse=True)\n",
    "types_of_crimes = np.unique(crime['Primary Type'])\n",
    "crimes_by_type = [(len(crime[crime['Primary Type'] == i]), i) for i in types_of_crimes]\n",
    "crimes_by_type.sort(reverse=True)\n",
    "\n",
    "# Question 3: Which types of crimes most often result in arrest?\n",
    "# Perspectives on what 'most often' means:\n",
    "# - See crime types with the mosts overall arrests?\n",
    "print(\"ARRESTS:\\n\")\n",
    "for i in range(10):\n",
    "    print(\"# {}. {}, {}\".\\\n",
    "          format(i+1, \\\n",
    "                 arrests_by_type[i][1], \\\n",
    "                 arrests_by_type[i][0]))\n",
    "    \n",
    "# - See percent arrested within each crime type?\n",
    "crimes_pct_arrests = [(float(len(arrests[arrests['Primary Type'] == \\\n",
    "                             crimes_by_type[i][1]]) \\\n",
    "                       / float(crimes_by_type[i][0]) * 100), \\\n",
    "                       crimes_by_type[i][1]) for i in range(len(crimes_by_type))] \n",
    "# Highest first\n",
    "crimes_pct_arrests.sort(reverse=True)\n",
    "crimes_pct_arrests = [(k, v) for v, k in crimes_pct_arrests]\n",
    "\n",
    "crime_counts = {v:k for k, v in crimes_by_type}\n",
    "print(\"\\n WE REALLY NEED A REGRESSION TO ANSWER #3 FULLY DUE TO DIFFERING\\n\\\n",
    " SAMPLE SIZES, BUT HERE'S A SIMPLE TABLE OF CRIMES BY THEIR PERCENT OF ARRESTS. \\n\\n\\\n",
    " ALSO IT'S PROBABLY BETTER THAT WE LIMIT THIS TABLE TO CRIMES \\n\\\n",
    " THAT EXPLAIN AT LEAST 5% (~{:.1f}) OF ALL ARRESTS.\".format(0.05 * len(arrests)))\n",
    "types = [(i[0], \"{}, {:.1f}% Arrested, {:.1f}% of CRIME ({}) and {:.1f}% of ARRESTS ({}) \".\\\n",
    "              format(i[0], i[1], \\\n",
    "                     crime_counts[i[0]] * 100 / len(crime), \\\n",
    "                     crime_counts[i[0]], \\\n",
    "                     ((i[1] / 100) * crime_counts[i[0]] * 100) / len(arrests), \\\n",
    "                     int((i[1]/100) * crime_counts[i[0]]))) \\\n",
    "                     for i in crimes_pct_arrests if (i[1]/100) * crime_counts[i[0]] >= 0.05 * len(arrests)]\n",
    "top_types = [i[0] for i in types]\n",
    "[i[1] for i in types]\n",
    "    "
   ]
  },
  {
   "cell_type": "code",
   "execution_count": 20,
   "metadata": {
    "collapsed": false
   },
   "outputs": [
    {
     "data": {
      "text/plain": [
       "District\n",
       "1      1\n",
       "2      5\n",
       "3      8\n",
       "4     12\n",
       "      ..\n",
       "20     3\n",
       "22     3\n",
       "24     3\n",
       "25     9\n",
       "dtype: int64"
      ]
     },
     "execution_count": 20,
     "metadata": {},
     "output_type": "execute_result"
    }
   ],
   "source": [
    "# Question 4: What are the number of weapons violations (one of the Primary Types) per district?\n",
    "grouped = crime[crime['Primary Type'] == 'WEAPONS VIOLATION'][['District', 'Primary Type']].groupby(['District'])\n",
    "grouped.size()"
   ]
  },
  {
   "cell_type": "code",
   "execution_count": 21,
   "metadata": {
    "collapsed": false
   },
   "outputs": [
    {
     "name": "stdout",
     "output_type": "stream",
     "text": [
      "Day\n",
      "0    402\n",
      "1    625\n",
      "2    563\n",
      "3    494\n",
      "4    500\n",
      "5    551\n",
      "6    541\n",
      "dtype: int64\n",
      "('Mondays', 625)\n"
     ]
    }
   ],
   "source": [
    "# Question 5: What are the number of arrests per days of the week? \n",
    "# Which day of the week has the most arrests?\n",
    "def get_dayofweek(date):\n",
    "    return date.dayofweek\n",
    "arrests['Day'] = arrests['Date'].apply(get_dayofweek)\n",
    "\n",
    "print(arrests.groupby(['Day']).size())\n",
    "print('Mondays', arrests.groupby(['Day']).size().max())"
   ]
  },
  {
   "cell_type": "code",
   "execution_count": 22,
   "metadata": {
    "collapsed": false
   },
   "outputs": [
    {
     "data": {
      "text/plain": [
       "<matplotlib.axes._subplots.AxesSubplot at 0x7f1ce87c4f50>"
      ]
     },
     "execution_count": 22,
     "metadata": {},
     "output_type": "execute_result"
    },
    {
     "data": {
      "image/png": "[encoded data removed]",
      "text/plain": [
       "<matplotlib.figure.Figure at 0x7f1ce879b690>"
      ]
     },
     "metadata": {},
     "output_type": "display_data"
    }
   ],
   "source": [
    "# Question 6: Make bar charts that show (a) the result of Question 4 and (b) Question 5.\n",
    "%matplotlib inline\n",
    "arrests_by_day = arrests.groupby(['Day']).size()\n",
    "arrests_by_day.plot(kind='barh', title='Arrests by Day of the Week')"
   ]
  },
  {
   "cell_type": "code",
   "execution_count": 23,
   "metadata": {
    "collapsed": false
   },
   "outputs": [
    {
     "data": {
      "text/plain": [
       "<matplotlib.axes._subplots.AxesSubplot at 0x7f1ce88c7950>"
      ]
     },
     "execution_count": 23,
     "metadata": {},
     "output_type": "execute_result"
    },
    {
     "data": {
      "image/png": "[encoded data removed]",
      "text/plain": [
       "<matplotlib.figure.Figure at 0x7f1ce879b310>"
      ]
     },
     "metadata": {},
     "output_type": "display_data"
    }
   ],
   "source": [
    "grouped.size().plot(kind='barh', title='Weapons Violations by Disrict')"
   ]
  },
  {
   "cell_type": "code",
   "execution_count": 24,
   "metadata": {
    "collapsed": false
   },
   "outputs": [
    {
     "data": {
      "text/plain": [
       "<matplotlib.axes._subplots.AxesSubplot at 0x7f1ce88e84d0>"
      ]
     },
     "execution_count": 24,
     "metadata": {},
     "output_type": "execute_result"
    },
    {
     "data": {
      "image/png": "[encoded data removed]",
      "text/plain": [
       "<matplotlib.figure.Figure at 0x7f1ce87f4610>"
      ]
     },
     "metadata": {},
     "output_type": "display_data"
    }
   ],
   "source": [
    "# Question 7: Make a scatter plot of latitude versus longitude \n",
    "# for those crimes where the Primary Type was: deceptive pratice.\n",
    "deceptive_crime = crime[crime['Primary Type'] == 'DECEPTIVE PRACTICE']\n",
    "deceptive_crime.plot(kind='scatter', x='Latitude', y='Longitude', title=\"'Deceptive' Crime Map (Lat/Lon)\")"
   ]
  },
  {
   "cell_type": "code",
   "execution_count": 25,
   "metadata": {
    "collapsed": false
   },
   "outputs": [
    {
     "data": {
      "text/plain": [
       "<matplotlib.axes._subplots.AxesSubplot at 0x7f1ce8934650>"
      ]
     },
     "execution_count": 25,
     "metadata": {},
     "output_type": "execute_result"
    },
    {
     "data": {
      "image/png": "[encoded data removed]",
      "text/plain": [
       "<matplotlib.figure.Figure at 0x7f1ce5b0d610>"
      ]
     },
     "metadata": {},
     "output_type": "display_data"
    }
   ],
   "source": [
    "# Question 8: Make a histogram that shows the number of arrests per beat.\n",
    "crime.groupby('Beat').size().plot(kind='hist', title=\"Crime (Beat - Totals)\")"
   ]
  },
  {
   "cell_type": "code",
   "execution_count": 28,
   "metadata": {
    "collapsed": false
   },
   "outputs": [
    {
     "name": "stdout",
     "output_type": "stream",
     "text": [
      "2          3\n",
      "10         3\n",
      "11         3\n",
      "14         3\n",
      "        ... \n",
      "21860    335\n",
      "21862    335\n",
      "21868    335\n",
      "21870    335\n",
      "Name: Date_Month, dtype: int64\n"
     ]
    },
    {
     "ename": "NameError",
     "evalue": "name 'top_arrest_types' is not defined",
     "output_type": "error",
     "traceback": [
      "\u001b[1;31m---------------------------------------------------------------------------\u001b[0m",
      "\u001b[1;31mNameError\u001b[0m                                 Traceback (most recent call last)",
      "\u001b[1;32m<ipython-input-28-517207fe8e55>\u001b[0m in \u001b[0;36m<module>\u001b[1;34m()\u001b[0m\n\u001b[0;32m     43\u001b[0m \u001b[0mxs\u001b[0m \u001b[1;33m=\u001b[0m \u001b[0mnp\u001b[0m\u001b[1;33m.\u001b[0m\u001b[0marange\u001b[0m\u001b[1;33m(\u001b[0m\u001b[0mtotal_days\u001b[0m\u001b[1;33m)\u001b[0m\u001b[1;33m\u001b[0m\u001b[0m\n\u001b[0;32m     44\u001b[0m \u001b[1;33m\u001b[0m\u001b[0m\n\u001b[1;32m---> 45\u001b[1;33m \u001b[1;32mfor\u001b[0m \u001b[0marrest_type\u001b[0m \u001b[1;32min\u001b[0m \u001b[0mtop_arrest_types\u001b[0m\u001b[1;33m:\u001b[0m\u001b[1;33m\u001b[0m\u001b[0m\n\u001b[0m\u001b[0;32m     46\u001b[0m     \u001b[0mys\u001b[0m \u001b[1;33m=\u001b[0m \u001b[0mnp\u001b[0m\u001b[1;33m.\u001b[0m\u001b[0marray\u001b[0m\u001b[1;33m(\u001b[0m\u001b[0mtop_types_daily_counts\u001b[0m\u001b[1;33m[\u001b[0m\u001b[0marrest_type\u001b[0m\u001b[1;33m]\u001b[0m\u001b[1;33m)\u001b[0m\u001b[1;33m\u001b[0m\u001b[0m\n\u001b[0;32m     47\u001b[0m     \u001b[0mcolor_list\u001b[0m \u001b[1;33m=\u001b[0m \u001b[0mcolors\u001b[0m\u001b[1;33m[\u001b[0m\u001b[0mcolor_row\u001b[0m\u001b[1;33m:\u001b[0m \u001b[0mcolor_row\u001b[0m \u001b[1;33m+\u001b[0m \u001b[1;36m1\u001b[0m\u001b[1;33m]\u001b[0m\u001b[1;33m.\u001b[0m\u001b[0mtolist\u001b[0m\u001b[1;33m(\u001b[0m\u001b[1;33m)\u001b[0m\u001b[1;33m[\u001b[0m\u001b[1;36m0\u001b[0m\u001b[1;33m]\u001b[0m\u001b[1;33m[\u001b[0m\u001b[1;36m0\u001b[0m\u001b[1;33m:\u001b[0m\u001b[1;33m]\u001b[0m\u001b[1;33m\u001b[0m\u001b[0m\n",
      "\u001b[1;31mNameError\u001b[0m: name 'top_arrest_types' is not defined"
     ]
    },
    {
     "data": {
      "image/png": "[encoded data removed]",
      "text/plain": [
       "<matplotlib.figure.Figure at 0x7f1ce87f4050>"
      ]
     },
     "metadata": {},
     "output_type": "display_data"
    }
   ],
   "source": [
    "# CHALLENGE 1.\n",
    "\n",
    "import matplotlib.pyplot as plt\n",
    "import matplotlib.cm as cm\n",
    "from __future__ import division\n",
    "\n",
    "\n",
    "def get_nice_colors(n_colors):\n",
    "    return cm.Accent([1 - (i/n_colors) for i in range(n_colors)])\n",
    "\n",
    "def get_date(date):\n",
    "    return date.dayofyear\n",
    "FIGWIDTH, FIGHEIGHT = 12, 8\n",
    "\n",
    "# Get unique number for each day in arrest data.\n",
    "arrests['Date_Month'] = arrests['Date'].apply(get_date)\n",
    "month_days = np.unique(arrests['Date_Month']).tolist()\n",
    "\n",
    "# Dictionary of np.arrays of Date_Month \n",
    "# counts for each type of the top Primary Types:\n",
    "top_types_daily_counts = {}\n",
    "\n",
    "for tp in top_types:\n",
    "    top_types_daily_counts[tp] = len(month_days)*[0]\n",
    "    \n",
    "for day in range(len(month_days)):\n",
    "    for tp in top_types_daily_counts:\n",
    "        top_types_daily_counts[tp][day] = \\\n",
    "            arrests[(arrests['Primary Type'] == tp) & \\\n",
    "                  (arrests['Date_Month'] == month_days[day])].count()[\"Date_Month\"]\n",
    "\n",
    "\n",
    "# Plot attributes.\n",
    "fig = plt.figure(figsize=(FIGWIDTH * 2, FIGHEIGHT))\n",
    "title = 'Crimes per day'\n",
    "plt.title(title)\n",
    "y_axis_label = 'Number of crimes (Top Arrest Types)'\n",
    "x_axis_label = 'Ordinal Day of the Year'\n",
    "color_row = 0\n",
    "\n",
    "colors = get_nice_colors(len(top_types_daily_counts.keys()))\n",
    "\n",
    "total_days = arrests.groupby(['Date_Month']).size().shape[0] \n",
    "xs = np.arange(total_days)\n",
    "\n",
    "for arrest_type in top_types:\n",
    "    ys = np.array(top_types_daily_counts[arrest_type])\n",
    "    color_list = colors[color_row: color_row + 1].tolist()[0][0:]\n",
    "    color = tuple(color_list)\n",
    "    line_chart = plt.plot(xs, ys, color=color, \\\n",
    "                         label=arrest_type)\n",
    "    color_row +=1\n",
    "\n",
    "# Plot formatting.\n",
    "plt.ylabel(y_axis_label)\n",
    "plt.xlabel(x_axis_label)\n",
    "plt.legend()                             "
   ]
  },
  {
   "cell_type": "code",
   "execution_count": null,
   "metadata": {
    "collapsed": true
   },
   "outputs": [],
   "source": []
  }
 ],
 "metadata": {
  "kernelspec": {
   "display_name": "Python 2",
   "language": "python",
   "name": "python2"
  },
  "language_info": {
   "codemirror_mode": {
    "name": "ipython",
    "version": 2
   },
   "file_extension": ".py",
   "mimetype": "text/x-python",
   "name": "python",
   "nbconvert_exporter": "python",
   "pygments_lexer": "ipython2",
   "version": "2.7.11"
  }
 },
 "nbformat": 4,
 "nbformat_minor": 0
}
